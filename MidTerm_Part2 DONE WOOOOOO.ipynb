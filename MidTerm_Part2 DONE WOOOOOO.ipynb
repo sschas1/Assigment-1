{
 "cells": [
  {
   "cell_type": "markdown",
   "metadata": {
    "colab_type": "text",
    "id": "u1YDPNtbdHDj"
   },
   "source": [
    "# PETE 2061 Mid-term Exam (Part 2) \n",
    "\n",
    "## THIS IS DUE BY 10:10 AM TODAY"
   ]
  },
  {
   "cell_type": "markdown",
   "metadata": {},
   "source": [
    "1. The production rate from an oil well has been observed to decline following either the exponential or the hyperbolic decline model. The initial oil rate ($q_i$) from this well is 10,000 bopd, and its initial decline rate ($D_i$) is 0.1% per day (which is equivalent to 0.001 per day). Write a Python code that: <br>\n",
    "    a. Reads in either \"Exp\" or \"Hyp\" using the input function, and stores the string typed in by the user into a variable named model. <br>\n",
    "    b. If the model typed in by the user is \"Exp\", use the exponential decline model, which is given as: $q = q_i \\, exp(-D_i t)$, to predict the daily oil rate for the first 3650 days (10 years) of production. <br>\n",
    "    c. If the model typed in by the user is \"Hyp\", use the hyperbolic decline model, which is given as: $q = \\frac{q_i}{(1+b D_i t)^{1/b}}$, with a b value of 0.5, to predict the daily oil rate for the first 3650 days (~10 years) of production. <br>\n",
    "    d. Plot the oil rate computed against time using the plt.plot(time,rate) function, after importing matplotlib.pyplot as plt. Remember to use the plt.show() function to display the plot in your Jupyter Notebook <br>\n",
    "    e. Compute and display the mean, minimum and standard deviation of the computed oil rates. <br>    "
   ]
  },
  {
   "cell_type": "code",
   "execution_count": null,
   "metadata": {},
   "outputs": [],
   "source": [
    "#Thank you for your help Dr. Olorode!\n",
    "import math as mt\n",
    "import pandas as pd\n",
    "import numpy as np\n",
    "import matplotlib.pyplot as plt\n",
    "\n",
    "q=np.arange(0,3651,1)\n",
    "q_i = 10000\n",
    "D_i = .001\n",
    "time=np.arange(0,3651,1)\n",
    "b=.5\n",
    "model = (input(\"Enter either Exp or Hyp my kind sir\"))\n",
    "\n",
    "if (model == \"Exp\"):\n",
    "    for x in time:\n",
    "        q[x] = q_i*mt.exp(-D_i*time[x]) #time is in days\n",
    "if (model == \"Hyp\"):\n",
    "    for x in time:\n",
    "        q[x] = (q_i)/((1+b*D_i*time[x])**(1/b))\n",
    "plt.plot(time,q, 'g-s')\n",
    "print(\"The mean is\",np.mean(q))\n",
    "print(\"The min is\", np.min(q))\n",
    "print(\"The standard deviation is\", np.std(q))\n",
    "print(f\"The oil rate is shown within the array {q} and the decline type curve is {model}\")\n",
    "\n",
    "\n",
    "\n"
   ]
  },
  {
   "cell_type": "code",
   "execution_count": null,
   "metadata": {},
   "outputs": [],
   "source": []
  },
  {
   "cell_type": "markdown",
   "metadata": {},
   "source": [
    "2. Write a Python code that generates, prints and stores 10 random integers into a variable, and then prints the smallest even number out of these 10 numbers. If no even number is present in the 10 random integers, print a message that says \"No even number in the list\". <br>\n",
    "Hints: <br>\n",
    "    a. You can generate a random number using the code below:<br>\n",
    "    myRandInt = np.random.randint(low=1, high=20, size=10)<br>\n",
    "    b. The append function works on a list named myList as follows: <br>\n",
    "    myList.append(\"The current even number from the list should be put in here!\")"
   ]
  },
  {
   "cell_type": "code",
   "execution_count": 7,
   "metadata": {},
   "outputs": [
    {
     "name": "stdout",
     "output_type": "stream",
     "text": [
      "No even number in the list\n",
      "No even number in the list\n",
      "No even number in the list\n",
      "[12, 10, 6, 6, 12, 14, 10]\n",
      "The smallest integer in the list of even numbers is 6\n"
     ]
    }
   ],
   "source": [
    "myRandInt = np.random.randint(low=1, high=20, size=10)\n",
    "myEvenList = []\n",
    "oddlist = []\n",
    "for x in myRandInt:\n",
    "    if (x%2==0):        #even\n",
    "        myEvenList.append(x)\n",
    "    if not(x%2==0): #odd\n",
    "        print(\"No even number in the list\")\n",
    "        \n",
    "print(myEvenList)\n",
    "print(\"The smallest integer in the list of even numbers is\" ,np.min([myEvenList]))"
   ]
  }
 ],
 "metadata": {
  "colab": {
   "collapsed_sections": [
    "sYQs3O-6dHFb",
    "8sIJ4A57dHFk",
    "_73RPOcBdHFn",
    "h9s2tfPcdHFo",
    "zt4YHVYPdHGR"
   ],
   "include_colab_link": true,
   "name": "Copy of intro-python-colab.ipynb",
   "provenance": [],
   "version": "0.3.2"
  },
  "kernelspec": {
   "display_name": "Python 3",
   "language": "python",
   "name": "python3"
  },
  "language_info": {
   "codemirror_mode": {
    "name": "ipython",
    "version": 3
   },
   "file_extension": ".py",
   "mimetype": "text/x-python",
   "name": "python",
   "nbconvert_exporter": "python",
   "pygments_lexer": "ipython3",
   "version": "3.7.3"
  }
 },
 "nbformat": 4,
 "nbformat_minor": 1
}
