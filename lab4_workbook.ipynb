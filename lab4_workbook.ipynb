{
 "cells": [
  {
   "cell_type": "markdown",
   "metadata": {
    "colab_type": "text",
    "id": "u1YDPNtbdHDj"
   },
   "source": [
    "# Control Structures and Data Frames\n",
    "\n",
    "## PETE 2061 Lab 4 Workbook \n",
    "\n",
    "## THIS IS DUE BY 11:59 PM ON SUNDAY (Sept 22, 2019)\n",
    "\n",
    "<a id='top'></a>"
   ]
  },
  {
   "cell_type": "markdown",
   "metadata": {},
   "source": [
    "1. Paste the url (or link) to the pete2061 folder in your github account in the \"marked down\" cell below. <br>"
   ]
  },
  {
   "cell_type": "markdown",
   "metadata": {},
   "source": []
  },
  {
   "cell_type": "markdown",
   "metadata": {},
   "source": [
    "2. It is commonly said that one human year is equivalent to 7 dog years. However, this simple conversion fails to recognize that dogs reach adulthood in approximately two years. As a result, some people believe that it is better to count each of the first two human years as 10.5 dog years, and then count each additional human year as 4 dog\n",
    "years. <br>\n",
    "Write a program that implements the conversion from human years to dog years described in the previous paragraph. Ensure that your program works correctly for conversions of less than two human years and for conversions of two or more human years. Your program should generate a random number between 0 and 10, and display an appropriate error message if the user enters a number that is outside this range. <br>\n",
    "Hints: <br>\n",
    "a. Remember that you can generate a random number between 0 and 1 using the function numpy.random.random(1)<br>\n",
    "b. You can scale this random number to go from 0 to 10 by multiplying it by 10<br>\n",
    "c. At this point what you have is a random floating-point number that goes from 0 to 10. You need to convert this floating-point number to an integer using the int() function."
   ]
  },
  {
   "cell_type": "code",
   "execution_count": 15,
   "metadata": {},
   "outputs": [
    {
     "name": "stdout",
     "output_type": "stream",
     "text": [
      "Your dog's age is 21.0\n"
     ]
    }
   ],
   "source": [
    "import numpy as np\n",
    "human_year=int(10*np.random.random(1))\n",
    "if human_year<=2:\n",
    "    dog_age=(10.5*human_year)\n",
    "    print(\"Your dog's age is\", dog_age)\n",
    "else:\n",
    "    dog_age=((human_year*4)+21)\n",
    "    print(\"Your dog's age is\", dog_age)"
   ]
  },
  {
   "cell_type": "markdown",
   "metadata": {},
   "source": [
    "3. For Students A through J, generate 10 different random numbers between 0 and 100. Create a dataframe to store the student names in the first column (called \"Name\"), and store the scores in the second column called \"Score\".\n",
    "   Print out the mean, standard deviation and maximum of the scores, as well as the index of the student with this maximum score. "
   ]
  },
  {
   "cell_type": "code",
   "execution_count": 30,
   "metadata": {},
   "outputs": [
    {
     "name": "stdout",
     "output_type": "stream",
     "text": [
      "The mean of the test scores is: Score    81.440105\n",
      "dtype: float64\n",
      "The standard deviation of the test scores is: Score    29.684439\n",
      "dtype: float64\n",
      "The maximum test score is: Score    98.651095\n",
      "dtype: float64\n",
      "The student with the maximum grade is Score    H\n",
      "dtype: object\n"
     ]
    },
    {
     "data": {
      "text/html": [
       "<div>\n",
       "<style scoped>\n",
       "    .dataframe tbody tr th:only-of-type {\n",
       "        vertical-align: middle;\n",
       "    }\n",
       "\n",
       "    .dataframe tbody tr th {\n",
       "        vertical-align: top;\n",
       "    }\n",
       "\n",
       "    .dataframe thead th {\n",
       "        text-align: right;\n",
       "    }\n",
       "</style>\n",
       "<table border=\"1\" class=\"dataframe\">\n",
       "  <thead>\n",
       "    <tr style=\"text-align: right;\">\n",
       "      <th></th>\n",
       "      <th>Score</th>\n",
       "    </tr>\n",
       "    <tr>\n",
       "      <th>Students</th>\n",
       "      <th></th>\n",
       "    </tr>\n",
       "  </thead>\n",
       "  <tbody>\n",
       "    <tr>\n",
       "      <th>A</th>\n",
       "      <td>95.565837</td>\n",
       "    </tr>\n",
       "    <tr>\n",
       "      <th>B</th>\n",
       "      <td>92.870872</td>\n",
       "    </tr>\n",
       "    <tr>\n",
       "      <th>C</th>\n",
       "      <td>96.490423</td>\n",
       "    </tr>\n",
       "    <tr>\n",
       "      <th>D</th>\n",
       "      <td>87.261103</td>\n",
       "    </tr>\n",
       "    <tr>\n",
       "      <th>E</th>\n",
       "      <td>70.273276</td>\n",
       "    </tr>\n",
       "    <tr>\n",
       "      <th>F</th>\n",
       "      <td>80.551883</td>\n",
       "    </tr>\n",
       "    <tr>\n",
       "      <th>G</th>\n",
       "      <td>94.545775</td>\n",
       "    </tr>\n",
       "    <tr>\n",
       "      <th>H</th>\n",
       "      <td>98.651095</td>\n",
       "    </tr>\n",
       "    <tr>\n",
       "      <th>I</th>\n",
       "      <td>97.334766</td>\n",
       "    </tr>\n",
       "    <tr>\n",
       "      <th>J</th>\n",
       "      <td>0.856022</td>\n",
       "    </tr>\n",
       "  </tbody>\n",
       "</table>\n",
       "</div>"
      ],
      "text/plain": [
       "              Score\n",
       "Students           \n",
       "A         95.565837\n",
       "B         92.870872\n",
       "C         96.490423\n",
       "D         87.261103\n",
       "E         70.273276\n",
       "F         80.551883\n",
       "G         94.545775\n",
       "H         98.651095\n",
       "I         97.334766\n",
       "J          0.856022"
      ]
     },
     "execution_count": 30,
     "metadata": {},
     "output_type": "execute_result"
    }
   ],
   "source": [
    "from numpy.random import randn\n",
    "import pandas as pd  \n",
    "name = 'A B C D E F G H I J'\n",
    "myrand = 100*(np.random.random((10,1)))\n",
    "df = pd.DataFrame(myrand,index=name.split(),columns='Score'.split())\n",
    "df=df.rename_axis('Students')\n",
    "print('The mean of the test scores is:', df.mean())\n",
    "print('The standard deviation of the test scores is:', df.std())\n",
    "print('The maximum test score is:', df.max())\n",
    "myrand.argmax(axis=0)\n",
    "print('The student with the maximum grade is', df.idxmax())\n",
    "df     "
   ]
  },
  {
   "cell_type": "markdown",
   "metadata": {},
   "source": [
    "4. Write a program that begins by reading a score in percentage (%) from the user. Then your program should compute and display the equivalent letter grade. Ensure that your program generates an appropriate error message if the user enters an invalid score.\n",
    "Use the grading scale on your syllabus. These scores are typed in below."
   ]
  },
  {
   "cell_type": "code",
   "execution_count": 19,
   "metadata": {},
   "outputs": [
    {
     "name": "stdout",
     "output_type": "stream",
     "text": [
      "Enter your numerical grade: 87%\n",
      "Your grade is a B+\n"
     ]
    }
   ],
   "source": [
    "letterGrade = ['A+','A','A-','B+','B','B-','C+','C','C-','D+','D','D-']\n",
    "scores = [97,93,90,87,83,80,77,73,70,67,63,60, 2]\n",
    "# A score of less than 60 gets a letter grade of F\n",
    "\n",
    "numStr = input(\"Enter your numerical grade: \")\n",
    "x = float(numStr.strip('%'))\n",
    "if x > 100 or x < 0:\n",
    "        print('Your grade is not valid. Please enter a score between 0 and 100%.')\n",
    "elif x <= 100 and x >= 97:\n",
    "        print('Your grade is an A+') \n",
    "elif x < 97 and x >= 93:\n",
    "        print('Your grade is an A')\n",
    "elif x < 93 and x >= 90:\n",
    "        print('Your grade is an A-')\n",
    "elif x < 90 and x >= 87:\n",
    "        print('Your grade is a B+')\n",
    "elif x < 87 and x >= 83:\n",
    "        print('Your grade is a B')\n",
    "elif x < 83 and x >= 80:\n",
    "        print('Your grade is a B-')\n",
    "elif x < 80 and x >= 77:\n",
    "        print('Your grade is a C+')\n",
    "elif x < 77 and x >= 73:\n",
    "        print('Your grade is a C')\n",
    "elif x < 73 and x >= 70:\n",
    "        print('Your grade is a C-')\n",
    "elif x < 70 and x >= 67:\n",
    "        print('Your grade is a D+')\n",
    "elif x < 67 and x >= 63:\n",
    "        print('Your grade is a D')\n",
    "elif x < 63 and x >= 60:\n",
    "        print('Your grade is a D-')\n",
    "elif x < 60 and x > 0:\n",
    "        print('Your grade is a F.')"
   ]
  },
  {
   "cell_type": "markdown",
   "metadata": {},
   "source": [
    "5. Write a program that generates 10 random integers, and then prints the largest odd number that was entered. If no odd number was entered it should print a message to that effect. <br>\n",
    "Hints: <br>\n",
    "    a. Use pseudo-code. <br>\n",
    "    b. Generate a random number using the code below:<br>\n",
    "    myRandInt = np.random.randint(low=1, high=20, size=10)<br>\n",
    "    c. Initialize an empty list to contain the odd numbers. Name this list oddInt <br>\n",
    "    d. Within your for loop, you can append odd numbers to this empty list using the append function. eg: <br>\n",
    "    oddInt.append(\"The current odd number from the list should be put in here!\")"
   ]
  },
  {
   "cell_type": "code",
   "execution_count": 25,
   "metadata": {},
   "outputs": [
    {
     "name": "stdout",
     "output_type": "stream",
     "text": [
      "[15]\n",
      "15\n",
      "[15, 7]\n",
      "15\n",
      "[15, 7, 11]\n",
      "15\n",
      "[15, 7, 11, 19]\n",
      "19\n",
      "[15, 7, 11, 19, 9]\n",
      "19\n",
      "[15, 7, 11, 19, 9, 1]\n",
      "19\n"
     ]
    }
   ],
   "source": [
    "import numpy as np\n",
    "myRandInt = np.random.randint(low=1, high=20, size=10)\n",
    "oddInt = []\n",
    "\n",
    "for x in myRandInt:\n",
    "    if not (x % 2) == 0:\n",
    "        oddInt.append(x)\n",
    "        print(oddInt)\n",
    "        print(max(oddInt))\n",
    "        \n",
    "        \n",
    "           #print (x, \"is an odd number\" )\n"
   ]
  }
 ],
 "metadata": {
  "colab": {
   "collapsed_sections": [
    "sYQs3O-6dHFb",
    "8sIJ4A57dHFk",
    "_73RPOcBdHFn",
    "h9s2tfPcdHFo",
    "zt4YHVYPdHGR"
   ],
   "include_colab_link": true,
   "name": "Copy of intro-python-colab.ipynb",
   "provenance": [],
   "version": "0.3.2"
  },
  "kernelspec": {
   "display_name": "Python 3",
   "language": "python",
   "name": "python3"
  },
  "language_info": {
   "codemirror_mode": {
    "name": "ipython",
    "version": 3
   },
   "file_extension": ".py",
   "mimetype": "text/x-python",
   "name": "python",
   "nbconvert_exporter": "python",
   "pygments_lexer": "ipython3",
   "version": "3.7.3"
  }
 },
 "nbformat": 4,
 "nbformat_minor": 1
}
