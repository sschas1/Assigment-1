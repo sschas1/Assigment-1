{
 "cells": [
  {
   "cell_type": "markdown",
   "metadata": {},
   "source": [
    "\n",
    " # Object Oriented Programming\n",
    "\n",
    "## PETE 2061 Lab 13\n",
    "\n",
    "<a id='top'></a>"
   ]
  },
  {
   "cell_type": "code",
   "execution_count": 1,
   "metadata": {},
   "outputs": [],
   "source": [
    "import numpy as np\n",
    "import matplotlib.pyplot as plt\n",
    "import pandas as pd\n",
    "import sqlite3\n",
    "%matplotlib inline   "
   ]
  },
  {
   "cell_type": "code",
   "execution_count": 13,
   "metadata": {},
   "outputs": [],
   "source": [
    "class Well:\n",
    "    def __init__(self, **kwargs):\n",
    "        if 'startDate' in kwargs: self._startDate = kwargs['startDate']\n",
    "        self._q_i = 0        \n",
    "        \n",
    "    def computeRate(self):\n",
    "        self._rate = 0\n",
    "        return self._rate\n",
    "    \n",
    "    def computeCumProd(self):\n",
    "        self._CumProd = 0\n",
    "        return self._CumProd\n",
    "    \n",
    "    def getStartDate(self):\n",
    "        pass\n",
    "    \n",
    "    def setStartDate(self):\n",
    "        pass"
   ]
  },
  {
   "cell_type": "code",
   "execution_count": 9,
   "metadata": {},
   "outputs": [],
   "source": [
    "class ProductionWell(Well):\n",
    "    sign = -1  # this is a class property\n",
    "    def __init__(self, **kwargs):\n",
    "        if 'prodStartDate' in kwargs: self._startDate = kwargs['prodStartDate']  \n",
    "        if 'startDate' in kwargs: del kwargs['startDate']\n",
    "        if 'q_i' in kwargs: self._q_i = kwargs['q_i']\n",
    "        if 'D_i' in kwargs: self._D_i = kwargs['D_i']\n",
    "        \n",
    "    def computeRate(self, t=None):   \n",
    "        if t: self._rate = self._q_i*np.exp(-self._D_i*t)\n",
    "        return self._rate   \n",
    "    \n",
    "    def computeCumProd(self, **kwargs):\n",
    "        self._CumProd = (self._q_i - self._rate)/self._D_i\n",
    "        return self._CumProd \n",
    "    \n",
    "    def getStartDate(self):\n",
    "        pass\n",
    "    \n",
    "    def setStartDate(self):\n",
    "        pass\n",
    "    \n",
    "    \n",
    "    \n",
    "    \n",
    "class InjectionWell(Well):\n",
    "    sign = 1\n",
    "    def __init__(self, **kwargs):\n",
    "        if 'injStartDate' in kwargs: self._startDate = kwargs['injStartDate']\n",
    "        if 'startDate' in kwargs: del kwargs['startDate']\n",
    "        if 'q_i' in kwargs: self._q_i = kwargs['q_i']\n",
    "        \n",
    "    def computeRate(self, **kwargs):\n",
    "        if 'q_i' in kwargs: self._rate = kwargs['q_i']\n",
    "        return self._rate   \n",
    "    \n",
    "\n",
    "    def computeCumProd(self, t=None):\n",
    "        if t: self._CumProd = self._q_i * t\n",
    "        return self._CumProd\n",
    "    \n",
    "    def getStartDate(self):\n",
    "        pass\n",
    "    \n",
    "    def setStartDate(self):\n",
    "        pass"
   ]
  },
  {
   "cell_type": "code",
   "execution_count": 5,
   "metadata": {},
   "outputs": [],
   "source": [
    "class AppraisalWell(Well):\n",
    "    sign = 0"
   ]
  },
  {
   "cell_type": "code",
   "execution_count": 15,
   "metadata": {},
   "outputs": [
    {
     "name": "stdout",
     "output_type": "stream",
     "text": [
      "30000\n",
      "39496.240407504294\n",
      "27500\n",
      "27500\n",
      "0\n"
     ]
    }
   ],
   "source": [
    "well_1 = Well(startDate=2000)\n",
    "well_1.computeCumProd()\n",
    "well_2 = Well(startDate=2000)\n",
    "well_2.computeCumProd()\n",
    "\n",
    "producer_A = ProductionWell(prodStartDate=2000, q_i=3000, D_i=0.01)\n",
    "producer_B = ProductionWell(prodStartDate=2001, q_i=4000, D_i=0.02)\n",
    "\n",
    "injector_A = InjectionWell(injStartDate=2005, q_i=2500)\n",
    "injector_B = InjectionWell(injStartDate=2005, q_i=2500)\n",
    "\n",
    "producer_A.computeRate(t=10)\n",
    "producer_A.computeCumProd()  \n",
    "\n",
    "producer_B.computeRate(11)\n",
    "producer_B.computeCumProd(t=11)\n",
    "\n",
    "injector_B.computeRate(q_i=1000)\n",
    "injector_B.computeCumProd(t=11)  \n",
    "\n",
    "injector_A.computeRate(q_i=1000)\n",
    "injector_A.computeCumProd(t=11) \n",
    "\n",
    "\n",
    "producer_A._CumProd\n",
    "producer_A._CumProd = 30000 \n",
    "producer_A._CumProd\n",
    "\n",
    "for well in [producer_A, producer_B, injector_A, injector_B, well_1]:\n",
    "    print(well._CumProd) "
   ]
  }
 ],
 "metadata": {
  "kernelspec": {
   "display_name": "Python 3",
   "language": "python",
   "name": "python3"
  },
  "language_info": {
   "codemirror_mode": {
    "name": "ipython",
    "version": 3
   },
   "file_extension": ".py",
   "mimetype": "text/x-python",
   "name": "python",
   "nbconvert_exporter": "python",
   "pygments_lexer": "ipython3",
   "version": "3.7.3"
  }
 },
 "nbformat": 4,
 "nbformat_minor": 2
}
